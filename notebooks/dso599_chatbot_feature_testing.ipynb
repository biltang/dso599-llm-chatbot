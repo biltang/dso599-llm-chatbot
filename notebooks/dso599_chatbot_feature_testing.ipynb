{
 "cells": [
  {
   "cell_type": "code",
   "execution_count": 2,
   "id": "82f4bb0e-7fbf-4464-b77e-0578d47e73d4",
   "metadata": {},
   "outputs": [
    {
     "data": {
      "text/plain": [
       "True"
      ]
     },
     "execution_count": 2,
     "metadata": {},
     "output_type": "execute_result"
    }
   ],
   "source": [
    "from dotenv import load_dotenv\n",
    "import os\n",
    "import importlib\n",
    "import sys \n",
    "\n",
    "sys.path.append('/home1/yongpeng/projects/dso599-llm-chatbot/llm_chatbot')\n",
    "\n",
    "# Load environment variables from .env file\n",
    "load_dotenv('../llm_chatbot/.env')"
   ]
  },
  {
   "cell_type": "markdown",
   "id": "1e1adada-b722-4d40-b96c-ee286c1fa668",
   "metadata": {},
   "source": [
    "# Part 2 Vector Store"
   ]
  },
  {
   "cell_type": "code",
   "execution_count": 5,
   "id": "50bc5b7b-9ba0-4515-99fd-45956d89b826",
   "metadata": {},
   "outputs": [],
   "source": [
    "import vector_store.vector_store\n",
    "importlib.reload(vector_store.vector_store)\n",
    "from vector_store.vector_store import load_documents, split_documents, create_brand_new_chroma_db, create_retriver_tool_chroma_db, get_embedding_function"
   ]
  },
  {
   "cell_type": "code",
   "execution_count": 3,
   "id": "8bcdf039-0542-45a6-8341-2903756649c7",
   "metadata": {},
   "outputs": [
    {
     "name": "stderr",
     "output_type": "stream",
     "text": [
      "Ignoring wrong pointing object 8 0 (offset 0)\n",
      "Ignoring wrong pointing object 10 0 (offset 0)\n",
      "Ignoring wrong pointing object 15 0 (offset 0)\n",
      "Ignoring wrong pointing object 17 0 (offset 0)\n",
      "Ignoring wrong pointing object 8 0 (offset 0)\n",
      "Ignoring wrong pointing object 10 0 (offset 0)\n",
      "Ignoring wrong pointing object 15 0 (offset 0)\n",
      "Ignoring wrong pointing object 17 0 (offset 0)\n"
     ]
    },
    {
     "name": "stdout",
     "output_type": "stream",
     "text": [
      "Chroma DB created at ../chroma_vector_store/ with 14 chunks.\n"
     ]
    }
   ],
   "source": [
    "documents = load_documents('../pdf_data/')\n",
    "chunks = split_documents(documents)\n",
    "create_brand_new_chroma_db(chunks, db_path='../chroma_vector_store/')"
   ]
  },
  {
   "cell_type": "code",
   "execution_count": 6,
   "id": "fa8bf9c5-f417-4f2a-ae72-3889279ffbe1",
   "metadata": {},
   "outputs": [
    {
     "name": "stdout",
     "output_type": "stream",
     "text": [
      "Recording Temperatures using Planet and Responding to Planet Alerts- Rev#10 Downloaded or Printed documents should be deleted/shredded within 1 week. Page 1 of 3  JP-ZOO-INST-24: Recording Temperatures for Transport of T-Rexs   1. PURPOSE This Work Instruction describes the DINO Transporter’s responsibility of keeping the T-Rexs safe if the current temperature is out of the safe temperature range, which is 57°F-68°F for T-Rexs. SCOPE This Work Instruction applies to DINO Operations Staff and teammates in the United States. 2. SAFETY There are no direct safety implications implicated by this procedure. 3. RESPONSIBILITY Transporters Record temperatures from the TYR55 sensor located in the cargo bay of every dinosaur freighter on the Research Dinosaur Welfare Check Log. T-Rexs are not safe when temperatures are out of range (57°F-68°F). Associate Director, Operations and Strategy Responsible for the action plan when temperatures in the freighter cannot be controlled and for Alert\n"
     ]
    }
   ],
   "source": [
    "# load from disk\n",
    "from langchain.vectorstores.chroma import Chroma\n",
    "\n",
    "db3 = Chroma(persist_directory='../chroma_vector_store/', embedding_function=get_embedding_function())\n",
    "docs = db3.similarity_search('What is the safe temperature for T-Rex Transport?')\n",
    "print(docs[0].page_content)"
   ]
  },
  {
   "cell_type": "markdown",
   "id": "114f0c8f-1edd-4ddf-afe2-d0fecd5e3ede",
   "metadata": {},
   "source": [
    "### Create Agent"
   ]
  },
  {
   "cell_type": "code",
   "execution_count": 10,
   "id": "63f9f20f-5f06-42a3-adb8-5a5013c73c40",
   "metadata": {},
   "outputs": [],
   "source": [
    "from langchain import hub\n",
    "from langchain.agents import AgentExecutor, create_react_agent\n",
    "from langchain_community.tools.tavily_search import TavilySearchResults\n",
    "from langchain_openai import OpenAI, ChatOpenAI\n",
    "import openai\n",
    "\n",
    "import react_agent\n",
    "importlib.reload(react_agent)\n",
    "from react_agent import get_react_agent, OpenAI_agent\n",
    "\n",
    "\n",
    "import vector_store\n",
    "importlib.reload(vector_store)\n",
    "from vector_store.vector_store import load_documents, split_documents, create_brand_new_chroma_db, create_retriver_tool_chroma_db"
   ]
  },
  {
   "cell_type": "code",
   "execution_count": 7,
   "id": "fcd80de8-2ad4-473b-89b2-51fa79859d74",
   "metadata": {},
   "outputs": [],
   "source": [
    "openai.api_key = os.getenv(\"OPENAI_API_KEY\")"
   ]
  },
  {
   "cell_type": "code",
   "execution_count": 11,
   "id": "a77b828c-7041-4d41-b9bc-33f4bc885e83",
   "metadata": {},
   "outputs": [],
   "source": [
    "tools = [create_retriver_tool_chroma_db(db_path='/home1/yongpeng/projects/dso599-llm-chatbot/chroma_vector_store/')]\n",
    "agent_executor = OpenAI_agent(model=\"gpt-3.5-turbo\",\n",
    "                              tools=tools)\n"
   ]
  },
  {
   "cell_type": "code",
   "execution_count": 12,
   "id": "77d1ec51-e3cb-4e94-b751-b6843a986472",
   "metadata": {
    "scrolled": true
   },
   "outputs": [
    {
     "name": "stdout",
     "output_type": "stream",
     "text": [
      "\n",
      "\n",
      "\u001b[1m> Entering new AgentExecutor chain...\u001b[0m\n",
      "\u001b[32;1m\u001b[1;3mI should use the dinosaur_temperature_transport_info tool to find the safe temperature for T-Rex transport.\n",
      "Action: dinosaur_temperature_transport_info\n",
      "Action Input: T-Rex\u001b[0m\u001b[36;1m\u001b[1;3mlocation and the actual time the T-Rexs were moved and the time they were moved back into the freighter. 6.2.10 If the transporter is unreachable, all efforts must be made to keep reaching out to the transporter till the transporter responds to the alert.  7 QUALITY DOCUMENTS 7.1 Research Dinosaur Welfare Check Log       XXXXXX   8 REFERENCES N/A\n",
      "\n",
      "Recording Temperatures using Planet and Responding to Planet Alerts- Rev#10 Downloaded or Printed documents should be deleted/shredded within 1 week. Page 1 of 3  JP-ZOO-INST-24: Recording Temperatures for Transport of T-Rexs   1. PURPOSE This Work Instruction describes the DINO Transporter’s responsibility of keeping the T-Rexs safe if the current temperature is out of the safe temperature range, which is 57°F-68°F for T-Rexs. SCOPE This Work Instruction applies to DINO Operations Staff and teammates in the United States. 2. SAFETY There are no direct safety implications implicated by this procedure. 3. RESPONSIBILITY Transporters Record temperatures from the TYR55 sensor located in the cargo bay of every dinosaur freighter on the Research Dinosaur Welfare Check Log. T-Rexs are not safe when temperatures are out of range (57°F-68°F). Associate Director, Operations and Strategy Responsible for the action plan when temperatures in the freighter cannot be controlled and for Alert\n",
      "\n",
      "Recording Temperatures using Planet and Responding to Planet Alerts- Rev#10 Downloaded or Printed documents should be deleted/shredded within 1 week. Page 1 of 3  JP-ZOO-INST-24: Recording Temperatures for Transport of Velociraptors   1. PURPOSE This Work Instruction describes the DINO Transporter’s responsibility of keeping the Velociraptors safe if the current temperature is out of the safe temperature range, which is 40°F-55°F for Velociraptors. SCOPE This Work Instruction applies to DINO Operations Staff and teammates in the United States. 2. SAFETY There are no direct safety implications implicated by this procedure. 3. RESPONSIBILITY Transporters Record temperatures from the TYR55 sensor located in the cargo bay of every dinosaur freighter on the Research Dinosaur Welfare Check Log. Velociraptors are not safe when temperatures are out of range (40°F-55°F). Associate Director, Operations and Strategy Responsible for the action plan when temperatures in the freighter cannot be\n",
      "\n",
      "new location and the actual time the Velociraptors were moved and the time they were moved back into the freighter. 6.2.10 If the transporter is unreachable, all efforts must be made to keep reaching out to the transporter till the transporter responds to the alert.  7 QUALITY DOCUMENTS 7.1 Research Dinosaur Welfare Check Log       XXXXXX   8 REFERENCES N/A\u001b[0m\u001b[32;1m\u001b[1;3mThe safe temperature for T-Rex transport is between 57°F-68°F.\n",
      "Final Answer: The safe temperature for T-Rex transport is between 57°F-68°F.\u001b[0m\n",
      "\n",
      "\u001b[1m> Finished chain.\u001b[0m\n"
     ]
    },
    {
     "data": {
      "text/plain": [
       "{'input': 'What is the safe temperature for T-Rex Transport?',\n",
       " 'output': 'The safe temperature for T-Rex transport is between 57°F-68°F.'}"
      ]
     },
     "execution_count": 12,
     "metadata": {},
     "output_type": "execute_result"
    }
   ],
   "source": [
    "agent_executor.invoke({\"input\": \"What is the safe temperature for T-Rex Transport?\"})"
   ]
  },
  {
   "cell_type": "code",
   "execution_count": null,
   "id": "ee8132b8-9b12-4038-b38b-5389ca0ff252",
   "metadata": {},
   "outputs": [],
   "source": []
  },
  {
   "cell_type": "markdown",
   "id": "1a5091c1-a26e-42b8-a501-d11db0ad77ca",
   "metadata": {},
   "source": [
    "# Part 3"
   ]
  },
  {
   "cell_type": "markdown",
   "id": "dc19a5ac-84cc-4bee-a1ef-523e001e4434",
   "metadata": {},
   "source": [
    "### DynamoDB Database"
   ]
  },
  {
   "cell_type": "code",
   "execution_count": 13,
   "id": "de48c043-b7a9-4f93-bf74-10889d4b9ebe",
   "metadata": {},
   "outputs": [],
   "source": [
    "import aws_features.dynamo_db\n",
    "importlib.reload(aws_features.dynamo_db)\n",
    "from aws_features.dynamo_db import *"
   ]
  },
  {
   "cell_type": "code",
   "execution_count": 14,
   "id": "1631e498-4ba9-429a-9141-ed84312b2f56",
   "metadata": {},
   "outputs": [],
   "source": [
    "dynamodb_args={'table_name': 'dino_info',\n",
    "                'csv_file_path': '../csv_data/dino_records.csv'}"
   ]
  },
  {
   "cell_type": "code",
   "execution_count": 16,
   "id": "44bfc443-3f10-4a5d-bed2-d5c1c81229e1",
   "metadata": {},
   "outputs": [
    {
     "name": "stdout",
     "output_type": "stream",
     "text": [
      "Table 'dino_info' exists. Table status: ACTIVE\n"
     ]
    }
   ],
   "source": [
    "if not check_table_exists(dynamodb_args['table_name']):\n",
    "    create_dino_dynamo_table(**dynamodb_args)"
   ]
  },
  {
   "cell_type": "markdown",
   "id": "777055bb-df97-4b9d-b757-94cd216cbde8",
   "metadata": {},
   "source": [
    "### Query The DynamoDB Table to retrieve City and DinoID given Date"
   ]
  },
  {
   "cell_type": "code",
   "execution_count": 17,
   "id": "d508f511-5af5-4cc5-8b20-a971706b9953",
   "metadata": {},
   "outputs": [
    {
     "data": {
      "text/plain": [
       "[{'DinoID_Transported': 'T88',\n",
       "  'Date': '3/19/2024',\n",
       "  '\\ufeffRoute_Number': '123999',\n",
       "  'City': 'Anchorage'}]"
      ]
     },
     "execution_count": 17,
     "metadata": {},
     "output_type": "execute_result"
    }
   ],
   "source": [
    "# Example usage\n",
    "date_to_query = '3/19/2024'\n",
    "items = query_dynamodb_dino_tbl_by_date(date_to_query)\n",
    "items"
   ]
  },
  {
   "cell_type": "markdown",
   "id": "dfff5cf7-5fb9-47df-822f-7bec8169b87a",
   "metadata": {},
   "source": [
    "## SQL Agent"
   ]
  },
  {
   "cell_type": "code",
   "execution_count": 18,
   "id": "51d326c7-d0e7-4fe6-b051-c22d5cfba282",
   "metadata": {},
   "outputs": [],
   "source": [
    "from langchain_community.utilities import SQLDatabase\n",
    "from langchain_openai import OpenAI, ChatOpenAI\n",
    "import openai"
   ]
  },
  {
   "cell_type": "code",
   "execution_count": 19,
   "id": "9507bcf5-7784-4dda-96eb-152da6b5ba89",
   "metadata": {},
   "outputs": [
    {
     "data": {
      "text/plain": [
       "\"[('T88', 'T-Rex'), ('V66', 'Velociraptor')]\""
      ]
     },
     "execution_count": 19,
     "metadata": {},
     "output_type": "execute_result"
    }
   ],
   "source": [
    "db = SQLDatabase.from_uri(\"sqlite:///../sqllite_dino_db/dino_name.db\")\n",
    "db.run(\"SELECT * FROM dinosaurs LIMIT 10;\")"
   ]
  },
  {
   "cell_type": "code",
   "execution_count": 21,
   "id": "3efcb411-86b2-4131-a21f-b20cd2260169",
   "metadata": {},
   "outputs": [],
   "source": [
    "import sql_agent.sql_agent\n",
    "importlib.reload(sql_agent.sql_agent)\n",
    "from sql_agent.sql_agent import get_sql_agent"
   ]
  },
  {
   "cell_type": "code",
   "execution_count": 22,
   "id": "07074592-02bb-4c3c-b353-1582b7f12763",
   "metadata": {},
   "outputs": [],
   "source": [
    "llm = ChatOpenAI(model=\"gpt-3.5-turbo\", temperature=0)\n",
    "sqlagent = get_sql_agent(llm=llm, db_path = '../sqllite_dino_db/dino_name.db')"
   ]
  },
  {
   "cell_type": "code",
   "execution_count": 23,
   "id": "329ba74e-51ba-4395-af2f-8c2a8288981d",
   "metadata": {},
   "outputs": [
    {
     "name": "stdout",
     "output_type": "stream",
     "text": [
      "\n",
      "\n",
      "\u001b[1m> Entering new SQL Agent Executor chain...\u001b[0m\n",
      "\u001b[32;1m\u001b[1;3m\n",
      "Invoking: `sql_db_list_tables` with `{}`\n",
      "\n",
      "\n",
      "\u001b[0m\u001b[38;5;200m\u001b[1;3mdinosaurs\u001b[0m\u001b[32;1m\u001b[1;3m\n",
      "Invoking: `sql_db_schema` with `{'table_names': 'dinosaurs'}`\n",
      "\n",
      "\n",
      "\u001b[0m\u001b[33;1m\u001b[1;3m\n",
      "CREATE TABLE dinosaurs (\n",
      "\t\"ID\" TEXT, \n",
      "\t\"Name\" TEXT, \n",
      "\tPRIMARY KEY (\"ID\")\n",
      ")\n",
      "\n",
      "/*\n",
      "3 rows from dinosaurs table:\n",
      "ID\tName\n",
      "T88\tT-Rex\n",
      "V66\tVelociraptor\n",
      "*/\u001b[0m\u001b[32;1m\u001b[1;3m\n",
      "Invoking: `sql_db_query` with `{'query': \"SELECT Name FROM dinosaurs WHERE ID = 'T88'\"}`\n",
      "\n",
      "\n",
      "\u001b[0m\u001b[36;1m\u001b[1;3m[('T-Rex',)]\u001b[0m\u001b[32;1m\u001b[1;3mThe dinosaur with ID T88 is named T-Rex.\u001b[0m\n",
      "\n",
      "\u001b[1m> Finished chain.\u001b[0m\n"
     ]
    },
    {
     "data": {
      "text/plain": [
       "'The dinosaur with ID T88 is named T-Rex.'"
      ]
     },
     "execution_count": 23,
     "metadata": {},
     "output_type": "execute_result"
    }
   ],
   "source": [
    "sqlagent.invoke(\n",
    "    \"What is the name of dinosaur with ID T88\"\n",
    ")['output']"
   ]
  },
  {
   "cell_type": "markdown",
   "id": "24d8119b-a79e-432c-962f-bf2c02a46618",
   "metadata": {},
   "source": [
    "### Temperature"
   ]
  },
  {
   "cell_type": "code",
   "execution_count": 25,
   "id": "eda5fa24-8f58-4356-abae-148565939207",
   "metadata": {},
   "outputs": [],
   "source": [
    "import react_agent\n",
    "importlib.reload(react_agent)\n",
    "from react_agent import get_react_agent, OpenAI_agent, get_all_tools\n",
    "\n",
    "\n",
    "api_keys = {'OPENWEATHERMAP_API_KEY':os.getenv(\"OPENWEATHERMAP_API_KEY\")}"
   ]
  },
  {
   "cell_type": "code",
   "execution_count": 26,
   "id": "8a0e0616-1970-4def-abe3-7d7bf41fc1dc",
   "metadata": {},
   "outputs": [],
   "source": [
    "tools = get_all_tools(load_api_keys=api_keys)\n",
    "agent_executor = OpenAI_agent(model=\"gpt-3.5-turbo\",\n",
    "             tools=tools, \n",
    "             prompt=None, \n",
    "             hub_prompt=\"hwchase17/react\", \n",
    "             temperature=0)\n"
   ]
  },
  {
   "cell_type": "code",
   "execution_count": 27,
   "id": "98d33b43-4d26-4e42-8027-64cd7a4193e2",
   "metadata": {},
   "outputs": [
    {
     "name": "stdout",
     "output_type": "stream",
     "text": [
      "\n",
      "\n",
      "\u001b[1m> Entering new AgentExecutor chain...\u001b[0m\n",
      "\u001b[32;1m\u001b[1;3mAnchorage is a location, so I should use the open_weather_map tool to fetch the current temperature.\n",
      "Action: open_weather_map\n",
      "Action Input: Anchorage\u001b[0m\u001b[36;1m\u001b[1;3mIn Anchorage, the current weather is as follows:\n",
      "Detailed status: overcast clouds\n",
      "Wind speed: 8.75 m/s, direction: 160°\n",
      "Humidity: 52%\n",
      "Temperature: \n",
      "  - Current: 9.42°C\n",
      "  - High: 11.56°C\n",
      "  - Low: 6.59°C\n",
      "  - Feels like: 5.73°C\n",
      "Rain: {}\n",
      "Heat index: None\n",
      "Cloud cover: 100%\u001b[0m\u001b[32;1m\u001b[1;3mI need to convert the current temperature in Celsius to Fahrenheit.\n",
      "Action: celsius_to_fahrenheit_conversion\n",
      "Action Input: 9.42°C\u001b[0m\u001b[36;1m\u001b[1;3m48.956\u001b[0m\u001b[32;1m\u001b[1;3mI now have the temperature in Fahrenheit for Anchorage.\n",
      "Final Answer: The temperature in Fahrenheit in Anchorage is 48.956°F.\u001b[0m\n",
      "\n",
      "\u001b[1m> Finished chain.\u001b[0m\n"
     ]
    },
    {
     "data": {
      "text/plain": [
       "{'input': 'What is the temperature in farenheight in Anchorage?. Only use a tool if needed, otherwise respond with Final Answer',\n",
       " 'output': 'The temperature in Fahrenheit in Anchorage is 48.956°F.'}"
      ]
     },
     "execution_count": 27,
     "metadata": {},
     "output_type": "execute_result"
    }
   ],
   "source": [
    "input_msg = 'What is the temperature in farenheight in Anchorage?'\n",
    "agent_executor.invoke({\"input\": f\"{input_msg}. Only use a tool if needed, otherwise respond with Final Answer\"})"
   ]
  },
  {
   "cell_type": "markdown",
   "id": "02263341-a098-484e-ac4e-5fc6ea98e57f",
   "metadata": {},
   "source": [
    "## End to End Testing"
   ]
  },
  {
   "cell_type": "code",
   "execution_count": 69,
   "id": "7cc5d5f5-49e9-4efc-9a0b-965f863c0933",
   "metadata": {},
   "outputs": [],
   "source": [
    "import sql_agent.sql_agent\n",
    "importlib.reload(sql_agent.sql_agent)\n",
    "from sql_agent.sql_agent import get_sql_agent\n",
    "\n",
    "import react_agent\n",
    "importlib.reload(react_agent)\n",
    "from react_agent import get_react_agent, OpenAI_agent, get_all_tools"
   ]
  },
  {
   "cell_type": "code",
   "execution_count": 70,
   "id": "79fcc1b0-e102-4295-9d05-2e2f8e5a1373",
   "metadata": {},
   "outputs": [],
   "source": [
    "tools = get_all_tools(load_api_keys=api_keys)\n",
    "agent_executor = OpenAI_agent(model=\"gpt-3.5-turbo\",\n",
    "             tools=tools, \n",
    "             prompt=None, \n",
    "             hub_prompt=\"hwchase17/react\", \n",
    "             temperature=0)\n",
    "\n"
   ]
  },
  {
   "cell_type": "code",
   "execution_count": 17,
   "id": "e53e3fac-f6c2-40b7-bc06-1bff6e41bab9",
   "metadata": {
    "scrolled": true
   },
   "outputs": [
    {
     "name": "stdout",
     "output_type": "stream",
     "text": [
      "\n",
      "\n",
      "\u001b[1m> Entering new AgentExecutor chain...\u001b[0m\n",
      "\u001b[32;1m\u001b[1;3mI need to query the DynamoDB table to get the relevant information about the dinosaur being transported on 3/19/2024.\n",
      "Action: query_dynamodb_dino_tbl_by_date\n",
      "Action Input: 3/19/2024\u001b[0m\u001b[38;5;200m\u001b[1;3m[{'DinoID_Transported': 'T88', 'Date': '3/19/2024', '\\ufeffRoute_Number': '123999', 'City': 'Anchorage'}]\u001b[0m\u001b[32;1m\u001b[1;3mNow that I have the DinoID_Transported and City information, I need to find out the dinosaur's name.\n",
      "Action: query_dino_name_tool\n",
      "Action Input: T88\u001b[0m\n",
      "\n",
      "\u001b[1m> Entering new SQL Agent Executor chain...\u001b[0m\n",
      "\u001b[32;1m\u001b[1;3m\n",
      "Invoking: `sql_db_list_tables` with `{}`\n",
      "\n",
      "\n",
      "\u001b[0m\u001b[38;5;200m\u001b[1;3mdinosaurs\u001b[0m\u001b[32;1m\u001b[1;3m\n",
      "Invoking: `sql_db_schema` with `{'table_names': 'dinosaurs'}`\n",
      "\n",
      "\n",
      "\u001b[0m\u001b[33;1m\u001b[1;3m\n",
      "CREATE TABLE dinosaurs (\n",
      "\t\"ID\" TEXT, \n",
      "\t\"Name\" TEXT, \n",
      "\tPRIMARY KEY (\"ID\")\n",
      ")\n",
      "\n",
      "/*\n",
      "3 rows from dinosaurs table:\n",
      "ID\tName\n",
      "T88\tT-Rex\n",
      "V66\tVelociraptor\n",
      "*/\u001b[0m\u001b[32;1m\u001b[1;3m\n",
      "Invoking: `sql_db_query` with `{'query': \"SELECT Name FROM dinosaurs WHERE ID = 'T88'\"}`\n",
      "\n",
      "\n",
      "\u001b[0m\u001b[36;1m\u001b[1;3m[('T-Rex',)]\u001b[0m\u001b[32;1m\u001b[1;3mThe dinosaur with ID T88 is called T-Rex.\u001b[0m\n",
      "\n",
      "\u001b[1m> Finished chain.\u001b[0m\n",
      "\u001b[33;1m\u001b[1;3mThe dinosaur with ID T88 is called T-Rex.\u001b[0m\u001b[32;1m\u001b[1;3mNow that I have the dinosaur's name, T-Rex, I need to find out the safe temperature range for transporting it.\n",
      "Action: dinosaur_temperature_transport_info\n",
      "Action Input: T-Rex\u001b[0m\u001b[33;1m\u001b[1;3mlocation and the actual time the T-Rexs were moved and the time they were moved back into the freighter. 6.2.10 If the transporter is unreachable, all efforts must be made to keep reaching out to the transporter till the transporter responds to the alert.  7 QUALITY DOCUMENTS 7.1 Research Dinosaur Welfare Check Log       XXXXXX   8 REFERENCES N/A\n",
      "\n",
      "Recording Temperatures using Planet and Responding to Planet Alerts- Rev#10 Downloaded or Printed documents should be deleted/shredded within 1 week. Page 1 of 3  JP-ZOO-INST-24: Recording Temperatures for Transport of T-Rexs   1. PURPOSE This Work Instruction describes the DINO Transporter’s responsibility of keeping the T-Rexs safe if the current temperature is out of the safe temperature range, which is 57°F-68°F for T-Rexs. SCOPE This Work Instruction applies to DINO Operations Staff and teammates in the United States. 2. SAFETY There are no direct safety implications implicated by this procedure. 3. RESPONSIBILITY Transporters Record temperatures from the TYR55 sensor located in the cargo bay of every dinosaur freighter on the Research Dinosaur Welfare Check Log. T-Rexs are not safe when temperatures are out of range (57°F-68°F). Associate Director, Operations and Strategy Responsible for the action plan when temperatures in the freighter cannot be controlled and for Alert\n",
      "\n",
      "Recording Temperatures using Planet and Responding to Planet Alerts- Rev#10 Downloaded or Printed documents should be deleted/shredded within 1 week. Page 1 of 3  JP-ZOO-INST-24: Recording Temperatures for Transport of Velociraptors   1. PURPOSE This Work Instruction describes the DINO Transporter’s responsibility of keeping the Velociraptors safe if the current temperature is out of the safe temperature range, which is 40°F-55°F for Velociraptors. SCOPE This Work Instruction applies to DINO Operations Staff and teammates in the United States. 2. SAFETY There are no direct safety implications implicated by this procedure. 3. RESPONSIBILITY Transporters Record temperatures from the TYR55 sensor located in the cargo bay of every dinosaur freighter on the Research Dinosaur Welfare Check Log. Velociraptors are not safe when temperatures are out of range (40°F-55°F). Associate Director, Operations and Strategy Responsible for the action plan when temperatures in the freighter cannot be\n",
      "\n",
      "new location and the actual time the Velociraptors were moved and the time they were moved back into the freighter. 6.2.10 If the transporter is unreachable, all efforts must be made to keep reaching out to the transporter till the transporter responds to the alert.  7 QUALITY DOCUMENTS 7.1 Research Dinosaur Welfare Check Log       XXXXXX   8 REFERENCES N/A\u001b[0m\u001b[32;1m\u001b[1;3mThe safe temperature range for transporting the T-Rex on 3/19/2024 in Anchorage is 57°F-68°F.\n",
      "Final Answer: The safe temperature range for transporting the T-Rex on 3/19/2024 in Anchorage is 57°F-68°F.\u001b[0m\n",
      "\n",
      "\u001b[1m> Finished chain.\u001b[0m\n"
     ]
    }
   ],
   "source": [
    "input_msg = \"\"\"What is the safe temperature range of the dinosaur being transported on date 3/19/2024? In your response,\n",
    "               also give the city and name of the dinosaur as well.\"\"\"\n",
    "temperature_response = agent_executor.invoke({\"input\": f\"{input_msg}. Only use a tool if needed, otherwise respond with Final Answer\"})"
   ]
  },
  {
   "cell_type": "code",
   "execution_count": 18,
   "id": "3d620bc6-4f61-49d6-9142-5734de12dc15",
   "metadata": {},
   "outputs": [
    {
     "data": {
      "text/plain": [
       "'The safe temperature range for transporting the T-Rex on 3/19/2024 in Anchorage is 57°F-68°F.'"
      ]
     },
     "execution_count": 18,
     "metadata": {},
     "output_type": "execute_result"
    }
   ],
   "source": [
    "temperature_response['output']"
   ]
  },
  {
   "cell_type": "code",
   "execution_count": 26,
   "id": "ed06a752-6475-45f0-8453-86d6a17f6f3a",
   "metadata": {
    "scrolled": true
   },
   "outputs": [
    {
     "name": "stdout",
     "output_type": "stream",
     "text": [
      "\n",
      "\n",
      "\u001b[1m> Entering new AgentExecutor chain...\u001b[0m\n",
      "\u001b[32;1m\u001b[1;3mI need to find the current temperature in Fahrenheit for Anchorage on 3/19/2024 to determine if it falls within the safe range for transporting the T-Rex.\n",
      "Action: open_weather_map\n",
      "Action Input: Anchorage,US\u001b[0m\u001b[36;1m\u001b[1;3mIn Anchorage,US, the current weather is as follows:\n",
      "Detailed status: overcast clouds\n",
      "Wind speed: 2.06 m/s, direction: 0°\n",
      "Humidity: 62%\n",
      "Temperature: \n",
      "  - Current: 8.64°C\n",
      "  - High: 10.92°C\n",
      "  - Low: 7.14°C\n",
      "  - Feels like: 7.56°C\n",
      "Rain: {}\n",
      "Heat index: None\n",
      "Cloud cover: 100%\u001b[0m\u001b[32;1m\u001b[1;3mI need to convert the current temperature of 8.64°C to Fahrenheit.\n",
      "Action: celsius_to_fahrenheit_conversion\n",
      "Action Input: 8.64\u001b[0m\u001b[36;1m\u001b[1;3m47.552\u001b[0m\u001b[32;1m\u001b[1;3mThe current temperature in Anchorage on 3/19/2024 is 47.552°F, which falls within the safe range for transporting the T-Rex.\n",
      "Final Answer: The current temperature in Anchorage is 47.552°F.\u001b[0m\n",
      "\n",
      "\u001b[1m> Finished chain.\u001b[0m\n"
     ]
    }
   ],
   "source": [
    "input_msg = f\"\"\"Given the following context: \n",
    "                {temperature_response['output']}\n",
    "                what is the current temperature in fahrenheight of the referenced city? Give the answer like this example\n",
    "                'The current temperature in CITY is TEMPERATURE\"\"\"\n",
    "current_temp = agent_executor.invoke({\"input\": f\"{input_msg}. Only use a tool if needed, otherwise respond with Final Answer\"})"
   ]
  },
  {
   "cell_type": "code",
   "execution_count": 71,
   "id": "1c4bda41-337f-4a6c-bc10-faa4d714f162",
   "metadata": {},
   "outputs": [
    {
     "data": {
      "text/plain": [
       "'The safe temperature range for transporting the T-Rex on 3/19/2024 in Anchorage is 57°F-68°F. The current temperature in Anchorage is 47.552°F.'"
      ]
     },
     "execution_count": 71,
     "metadata": {},
     "output_type": "execute_result"
    }
   ],
   "source": [
    "temperature_response['output'] + ' ' + current_temp['output']"
   ]
  },
  {
   "cell_type": "code",
   "execution_count": 104,
   "id": "5a93bfe5-3a7f-4e2d-a5c8-e0293ea20095",
   "metadata": {},
   "outputs": [
    {
     "name": "stdout",
     "output_type": "stream",
     "text": [
      "\n",
      "\n",
      "\u001b[1m> Entering new AgentExecutor chain...\u001b[0m\n",
      "\u001b[32;1m\u001b[1;3mSince I already have the current temperature and the safe temperature range, I can directly use the dino_temp_safety_check tool to determine if it's safe to transport the dinosaur.\n",
      "Action: dino_temp_safety_check\n",
      "Action Input: [\"47.552\", \"57\", \"68\"]\u001b[0m\u001b[38;5;200m\u001b[1;3mIt is not safe for the dinosaurs at this temperature because it is too cold.\u001b[0m\u001b[32;1m\u001b[1;3mI now know the final answer\n",
      "Final Answer: It is not safe to transport the T-Rex at the current temperature in Anchorage because it is too cold.\u001b[0m\n",
      "\n",
      "\u001b[1m> Finished chain.\u001b[0m\n"
     ]
    }
   ],
   "source": [
    "input_msg = f\"\"\"{temperature_response['output'] + ' ' + current_temp['output']}\n",
    "                Is it safe to transport the dinosaur at that temperature? You do not need to do any temperature conversion.\"\"\"\n",
    "safety_response = agent_executor.invoke({\"input\": f\"{input_msg}. Only use a tool if needed, otherwise respond with Final Answer\"})"
   ]
  },
  {
   "cell_type": "code",
   "execution_count": 110,
   "id": "894b1b0d-1323-4ccf-a319-c7d1ecf67fa5",
   "metadata": {},
   "outputs": [
    {
     "data": {
      "text/plain": [
       "'The safe temperature range for transporting the T-Rex on 3/19/2024 in Anchorage is 57°F-68°F. The current temperature in Anchorage is 47.552°F. It is not safe to transport the T-Rex at the current temperature in Anchorage because it is too cold.'"
      ]
     },
     "execution_count": 110,
     "metadata": {},
     "output_type": "execute_result"
    }
   ],
   "source": [
    "temperature_response['output'] + ' ' + current_temp['output'] + ' ' + safety_response['output']"
   ]
  },
  {
   "cell_type": "code",
   "execution_count": 114,
   "id": "27199d83-cab2-408f-8779-043810105e61",
   "metadata": {
    "scrolled": true
   },
   "outputs": [
    {
     "name": "stdout",
     "output_type": "stream",
     "text": [
      "\n",
      "\n",
      "\u001b[1m> Entering new AgentExecutor chain...\u001b[0m\n",
      "\u001b[32;1m\u001b[1;3mThe question already provides the dinosaur name and the fact that it's not safe to transport it due to cold temperature. I need to find the specific actions to keep the T-Rex safe in cold weather from the dinosaur_temperature_transport_info.\n",
      "Action: dinosaur_temperature_transport_info\n",
      "Action Input: T-Rex\u001b[0m\u001b[33;1m\u001b[1;3mlocation and the actual time the T-Rexs were moved and the time they were moved back into the freighter. 6.2.10 If the transporter is unreachable, all efforts must be made to keep reaching out to the transporter till the transporter responds to the alert.  7 QUALITY DOCUMENTS 7.1 Research Dinosaur Welfare Check Log       XXXXXX   8 REFERENCES N/A\n",
      "\n",
      "Recording Temperatures using Planet and Responding to Planet Alerts- Rev#10 Downloaded or Printed documents should be deleted/shredded within 1 week. Page 1 of 3  JP-ZOO-INST-24: Recording Temperatures for Transport of T-Rexs   1. PURPOSE This Work Instruction describes the DINO Transporter’s responsibility of keeping the T-Rexs safe if the current temperature is out of the safe temperature range, which is 57°F-68°F for T-Rexs. SCOPE This Work Instruction applies to DINO Operations Staff and teammates in the United States. 2. SAFETY There are no direct safety implications implicated by this procedure. 3. RESPONSIBILITY Transporters Record temperatures from the TYR55 sensor located in the cargo bay of every dinosaur freighter on the Research Dinosaur Welfare Check Log. T-Rexs are not safe when temperatures are out of range (57°F-68°F). Associate Director, Operations and Strategy Responsible for the action plan when temperatures in the freighter cannot be controlled and for Alert\n",
      "\n",
      "Recording Temperatures using Planet and Responding to Planet Alerts- Rev#10 Downloaded or Printed documents should be deleted/shredded within 1 week. Page 1 of 3  JP-ZOO-INST-24: Recording Temperatures for Transport of Velociraptors   1. PURPOSE This Work Instruction describes the DINO Transporter’s responsibility of keeping the Velociraptors safe if the current temperature is out of the safe temperature range, which is 40°F-55°F for Velociraptors. SCOPE This Work Instruction applies to DINO Operations Staff and teammates in the United States. 2. SAFETY There are no direct safety implications implicated by this procedure. 3. RESPONSIBILITY Transporters Record temperatures from the TYR55 sensor located in the cargo bay of every dinosaur freighter on the Research Dinosaur Welfare Check Log. Velociraptors are not safe when temperatures are out of range (40°F-55°F). Associate Director, Operations and Strategy Responsible for the action plan when temperatures in the freighter cannot be\n",
      "\n",
      "new location and the actual time the Velociraptors were moved and the time they were moved back into the freighter. 6.2.10 If the transporter is unreachable, all efforts must be made to keep reaching out to the transporter till the transporter responds to the alert.  7 QUALITY DOCUMENTS 7.1 Research Dinosaur Welfare Check Log       XXXXXX   8 REFERENCES N/A\u001b[0m\u001b[32;1m\u001b[1;3mThe document JP-ZOO-INST-24: Recording Temperatures for Transport of T-Rexs provides the necessary information. The DINO Transporter is responsible for recording temperatures from the TYR55 sensor located in the cargo bay of every dinosaur freighter on the Research Dinosaur Welfare Check Log. The Associate Director, Operations and Strategy is responsible for the action plan when temperatures in the freighter cannot be controlled. If the transporter is unreachable, all efforts must be made to keep reaching out to the transporter till the transporter responds to the alert.\n",
      "Final Answer: The DINO Transporter should record the current temperature from the TYR55 sensor located in the cargo bay of the dinosaur freighter on the Research Dinosaur Welfare Check Log. The Associate Director, Operations and Strategy should be responsible for the action plan when temperatures in the freighter cannot be controlled. If the transporter is unreachable, all efforts must be made to keep reaching out to the transporter till the transporter responds to the alert. This is according to the document JP-ZOO-INST-24: Recording Temperatures for Transport of T-Rexs.\u001b[0m\n",
      "\n",
      "\u001b[1m> Finished chain.\u001b[0m\n"
     ]
    }
   ],
   "source": [
    "input_msg = f\"\"\"Given this information: {temperature_response['output'] + ' ' + current_temp['output'] + ' ' + safety_response['output']}\n",
    "                If it is not safe to transport the dinosaur, check what specific actions \n",
    "                we can take to to keep the relevant dinosaur safe based on the existing documentation (Make sure to reference the correct document since you are given the dinosaur name)\"\"\"\n",
    "action_response = agent_executor.invoke({\"input\": f\"{input_msg}. Only use a tool if needed, otherwise respond with Final Answer\"})"
   ]
  },
  {
   "cell_type": "code",
   "execution_count": 115,
   "id": "21b14513-07dc-4cc8-b7ee-9d7c3ca9d59b",
   "metadata": {},
   "outputs": [
    {
     "data": {
      "text/plain": [
       "{'input': 'Given this information: The safe temperature range for transporting the T-Rex on 3/19/2024 in Anchorage is 57°F-68°F. The current temperature in Anchorage is 47.552°F. It is not safe to transport the T-Rex at the current temperature in Anchorage because it is too cold.\\n                If it is not safe to transport the dinosaur, check what specific actions \\n                we can take to to keep the relevant dinosaur safe based on the existing documentation (Make sure to reference the correct document since you are given the dinosaur name). Only use a tool if needed, otherwise respond with Final Answer',\n",
       " 'output': 'The DINO Transporter should record the current temperature from the TYR55 sensor located in the cargo bay of the dinosaur freighter on the Research Dinosaur Welfare Check Log. The Associate Director, Operations and Strategy should be responsible for the action plan when temperatures in the freighter cannot be controlled. If the transporter is unreachable, all efforts must be made to keep reaching out to the transporter till the transporter responds to the alert. This is according to the document JP-ZOO-INST-24: Recording Temperatures for Transport of T-Rexs.'}"
      ]
     },
     "execution_count": 115,
     "metadata": {},
     "output_type": "execute_result"
    }
   ],
   "source": [
    "action_response"
   ]
  },
  {
   "cell_type": "code",
   "execution_count": 102,
   "id": "1527d040-adc5-4e88-8a91-68f5dc36e565",
   "metadata": {
    "scrolled": true
   },
   "outputs": [
    {
     "name": "stdout",
     "output_type": "stream",
     "text": [
      "\n",
      "\n",
      "\u001b[1m> Entering new AgentExecutor chain...\u001b[0m\n",
      "\u001b[32;1m\u001b[1;3mI need to find the specific actions to take to keep the T-Rex safe during transportation based on the existing documentation.\n",
      "Action: dinosaur_temperature_transport_info\n",
      "Action Input: T-Rex\u001b[0m\u001b[33;1m\u001b[1;3mlocation and the actual time the T-Rexs were moved and the time they were moved back into the freighter. 6.2.10 If the transporter is unreachable, all efforts must be made to keep reaching out to the transporter till the transporter responds to the alert.  7 QUALITY DOCUMENTS 7.1 Research Dinosaur Welfare Check Log       XXXXXX   8 REFERENCES N/A\n",
      "\n",
      "Recording Temperatures using Planet and Responding to Planet Alerts- Rev#10 Downloaded or Printed documents should be deleted/shredded within 1 week. Page 1 of 3  JP-ZOO-INST-24: Recording Temperatures for Transport of T-Rexs   1. PURPOSE This Work Instruction describes the DINO Transporter’s responsibility of keeping the T-Rexs safe if the current temperature is out of the safe temperature range, which is 57°F-68°F for T-Rexs. SCOPE This Work Instruction applies to DINO Operations Staff and teammates in the United States. 2. SAFETY There are no direct safety implications implicated by this procedure. 3. RESPONSIBILITY Transporters Record temperatures from the TYR55 sensor located in the cargo bay of every dinosaur freighter on the Research Dinosaur Welfare Check Log. T-Rexs are not safe when temperatures are out of range (57°F-68°F). Associate Director, Operations and Strategy Responsible for the action plan when temperatures in the freighter cannot be controlled and for Alert\n",
      "\n",
      "Recording Temperatures using Planet and Responding to Planet Alerts- Rev#10 Downloaded or Printed documents should be deleted/shredded within 1 week. Page 1 of 3  JP-ZOO-INST-24: Recording Temperatures for Transport of Velociraptors   1. PURPOSE This Work Instruction describes the DINO Transporter’s responsibility of keeping the Velociraptors safe if the current temperature is out of the safe temperature range, which is 40°F-55°F for Velociraptors. SCOPE This Work Instruction applies to DINO Operations Staff and teammates in the United States. 2. SAFETY There are no direct safety implications implicated by this procedure. 3. RESPONSIBILITY Transporters Record temperatures from the TYR55 sensor located in the cargo bay of every dinosaur freighter on the Research Dinosaur Welfare Check Log. Velociraptors are not safe when temperatures are out of range (40°F-55°F). Associate Director, Operations and Strategy Responsible for the action plan when temperatures in the freighter cannot be\n",
      "\n",
      "new location and the actual time the Velociraptors were moved and the time they were moved back into the freighter. 6.2.10 If the transporter is unreachable, all efforts must be made to keep reaching out to the transporter till the transporter responds to the alert.  7 QUALITY DOCUMENTS 7.1 Research Dinosaur Welfare Check Log       XXXXXX   8 REFERENCES N/A\u001b[0m\u001b[32;1m\u001b[1;3mThe document provides specific actions to take to keep the T-Rex safe during transportation. The DINO Transporter is responsible for recording temperatures from the TYR55 sensor located in the cargo bay of every dinosaur freighter on the Research Dinosaur Welfare Check Log. The Associate Director, Operations and Strategy is responsible for the action plan when temperatures in the freighter cannot be controlled. If the transporter is unreachable, all efforts must be made to keep reaching out to the transporter till the transporter responds to the alert.\n",
      "Final Answer: The specific actions to take to keep the T-Rex safe during transportation are: 1) The DINO Transporter should record temperatures from the TYR55 sensor located in the cargo bay of every dinosaur freighter on the Research Dinosaur Welfare Check Log. 2) The Associate Director, Operations and Strategy is responsible for the action plan when temperatures in the freighter cannot be controlled. 3) If the transporter is unreachable, all efforts must be made to keep reaching out to the transporter till the transporter responds to the alert. These actions are referenced in the document JP-ZOO-INST-24: Recording Temperatures for Transport of T-Rexs.\u001b[0m\n",
      "\n",
      "\u001b[1m> Finished chain.\u001b[0m\n"
     ]
    }
   ],
   "source": [
    "if safety_response['output'] == 'False':\n",
    "    input_msg = f\"\"\"Given this information: {temperature_response['output'] + ' ' + current_temp['output']} It is not safe to transport the dinosaur because the current temperature is out of range. \n",
    "                Check what specific actions we can take to to keep the relevant dinosaur safe based on the existing documentation (Make sure to reference the correct document since you are given the dinosaur name)\"\"\"\n",
    "    action_response = agent_executor.invoke({\"input\": f\"{input_msg}. Only use a tool if needed, otherwise respond with Final Answer\"})"
   ]
  },
  {
   "cell_type": "markdown",
   "id": "b9045c38-9f16-4d8e-9413-b7d6eea9c89e",
   "metadata": {},
   "source": [
    "### Craft a message with actions to take"
   ]
  },
  {
   "cell_type": "code",
   "execution_count": 108,
   "id": "15e6baae-7636-44e6-8510-34090309f8f7",
   "metadata": {},
   "outputs": [],
   "source": [
    "message_info = temperature_response['output'] + ' ' + current_temp['output'] + ' ' + safety_response['output'] + ' ' + action_response['output']"
   ]
  },
  {
   "cell_type": "code",
   "execution_count": 109,
   "id": "388fe07c-2c25-403b-83cc-d7d845d1c4f5",
   "metadata": {},
   "outputs": [
    {
     "data": {
      "text/plain": [
       "'The safe temperature range for transporting the T-Rex on 3/19/2024 in Anchorage is 57°F-68°F. The current temperature in Anchorage is 47.552°F. It is not safe to transport the T-Rex at the current temperature in Anchorage because it is too cold. The specific actions to take to keep the T-Rex safe during transportation in cold temperatures are: 1) The DINO Transporter should record the temperatures from the TYR55 sensor located in the cargo bay of every dinosaur freighter on the Research Dinosaur Welfare Check Log. 2) If the temperature is out of the safe range (57°F-68°F for T-Rexs), the Associate Director, Operations and Strategy is responsible for the action plan when temperatures in the freighter cannot be controlled. 3) If the transporter is unreachable, all efforts must be made to keep reaching out to the transporter till the transporter responds to the alert. These actions are outlined in the document JP-ZOO-INST-24: Recording Temperatures for Transport of T-Rexs.'"
      ]
     },
     "execution_count": 109,
     "metadata": {},
     "output_type": "execute_result"
    }
   ],
   "source": [
    "message_info"
   ]
  },
  {
   "cell_type": "code",
   "execution_count": 116,
   "id": "e65c75a9-265a-4bb5-a555-190285e47f63",
   "metadata": {},
   "outputs": [
    {
     "name": "stdout",
     "output_type": "stream",
     "text": [
      "\n",
      "\n",
      "\u001b[1m> Entering new AgentExecutor chain...\u001b[0m\n",
      "\u001b[32;1m\u001b[1;3mThe information provided is comprehensive and does not require the use of any tools to answer the question. I can directly draft an email to the manager with the given information.\n",
      "Final Answer: Subject: Urgent: T-Rex Transportation Temperature Alert\n",
      "\n",
      "Dear Manager,\n",
      "\n",
      "I am writing to inform you about a critical situation regarding the transportation of our T-Rex on 3/19/2024 in Anchorage. The current temperature in Anchorage is 47.552°F, which is below the safe temperature range for T-Rex transportation (57°F-68°F). \n",
      "\n",
      "As per our protocol outlined in document JP-ZOO-INST-24: Recording Temperatures for Transport of T-Rexs, it is not safe to transport the T-Rex at the current temperature because it is too cold. \n",
      "\n",
      "Here are the specific actions we are taking to ensure the safety of the T-Rex:\n",
      "\n",
      "1) The DINO Transporter is recording the temperatures from the TYR55 sensor located in the cargo bay of every dinosaur freighter on the Research Dinosaur Welfare Check Log. \n",
      "\n",
      "2) As the temperature is out of the safe range, the Associate Director, Operations and Strategy is responsible for the action plan when temperatures in the freighter cannot be controlled. \n",
      "\n",
      "3) If the transporter is unreachable, all efforts are being made to keep reaching out to the transporter till the transporter responds to the alert. \n",
      "\n",
      "We are doing everything we can to ensure the safety of the T-Rex during this transportation. We will keep you updated on the situation.\n",
      "\n",
      "Best Regards,\n",
      "[Your Name]\u001b[0m\n",
      "\n",
      "\u001b[1m> Finished chain.\u001b[0m\n"
     ]
    }
   ],
   "source": [
    "input_msg = f\"\"\"Given this information: {message_info}\n",
    "                craft a status email to the manager.\"\"\"\n",
    "action_response = agent_executor.invoke({\"input\": f\"{input_msg}. Only use a tool if needed, otherwise respond with Final Answer\"})"
   ]
  },
  {
   "cell_type": "code",
   "execution_count": 112,
   "id": "e7db5ac3-ad42-4fc9-9b96-f041df2fb7bc",
   "metadata": {},
   "outputs": [],
   "source": [
    "import sql_agent.sql_agent\n",
    "importlib.reload(sql_agent.sql_agent)\n",
    "from sql_agent.sql_agent import get_sql_agent\n",
    "\n",
    "import react_agent\n",
    "importlib.reload(react_agent)\n",
    "from react_agent import get_react_agent, OpenAI_agent, get_all_tools, agent_check_safety_actions"
   ]
  },
  {
   "cell_type": "code",
   "execution_count": 113,
   "id": "a47b4f11-8511-4e70-a103-4dd61d1b3e14",
   "metadata": {},
   "outputs": [
    {
     "name": "stdout",
     "output_type": "stream",
     "text": [
      "\n",
      "\n",
      "\u001b[1m> Entering new AgentExecutor chain...\u001b[0m\n",
      "\u001b[32;1m\u001b[1;3mI need to find the specific actions to take to keep the T-Rex safe during transportation in cold weather. I can use the dinosaur_temperature_transport_info tool to get this information.\n",
      "Action: dinosaur_temperature_transport_info\n",
      "Action Input: T-Rex\u001b[0m\u001b[33;1m\u001b[1;3mlocation and the actual time the T-Rexs were moved and the time they were moved back into the freighter. 6.2.10 If the transporter is unreachable, all efforts must be made to keep reaching out to the transporter till the transporter responds to the alert.  7 QUALITY DOCUMENTS 7.1 Research Dinosaur Welfare Check Log       XXXXXX   8 REFERENCES N/A\n",
      "\n",
      "Recording Temperatures using Planet and Responding to Planet Alerts- Rev#10 Downloaded or Printed documents should be deleted/shredded within 1 week. Page 1 of 3  JP-ZOO-INST-24: Recording Temperatures for Transport of T-Rexs   1. PURPOSE This Work Instruction describes the DINO Transporter’s responsibility of keeping the T-Rexs safe if the current temperature is out of the safe temperature range, which is 57°F-68°F for T-Rexs. SCOPE This Work Instruction applies to DINO Operations Staff and teammates in the United States. 2. SAFETY There are no direct safety implications implicated by this procedure. 3. RESPONSIBILITY Transporters Record temperatures from the TYR55 sensor located in the cargo bay of every dinosaur freighter on the Research Dinosaur Welfare Check Log. T-Rexs are not safe when temperatures are out of range (57°F-68°F). Associate Director, Operations and Strategy Responsible for the action plan when temperatures in the freighter cannot be controlled and for Alert\n",
      "\n",
      "Recording Temperatures using Planet and Responding to Planet Alerts- Rev#10 Downloaded or Printed documents should be deleted/shredded within 1 week. Page 1 of 3  JP-ZOO-INST-24: Recording Temperatures for Transport of Velociraptors   1. PURPOSE This Work Instruction describes the DINO Transporter’s responsibility of keeping the Velociraptors safe if the current temperature is out of the safe temperature range, which is 40°F-55°F for Velociraptors. SCOPE This Work Instruction applies to DINO Operations Staff and teammates in the United States. 2. SAFETY There are no direct safety implications implicated by this procedure. 3. RESPONSIBILITY Transporters Record temperatures from the TYR55 sensor located in the cargo bay of every dinosaur freighter on the Research Dinosaur Welfare Check Log. Velociraptors are not safe when temperatures are out of range (40°F-55°F). Associate Director, Operations and Strategy Responsible for the action plan when temperatures in the freighter cannot be\n",
      "\n",
      "new location and the actual time the Velociraptors were moved and the time they were moved back into the freighter. 6.2.10 If the transporter is unreachable, all efforts must be made to keep reaching out to the transporter till the transporter responds to the alert.  7 QUALITY DOCUMENTS 7.1 Research Dinosaur Welfare Check Log       XXXXXX   8 REFERENCES N/A\u001b[0m\u001b[32;1m\u001b[1;3mI now know the specific actions to take to keep the T-Rex safe during transportation in cold weather.\n",
      "Final Answer: The DINO Transporter is responsible for recording temperatures from the TYR55 sensor located in the cargo bay of every dinosaur freighter on the Research Dinosaur Welfare Check Log. T-Rexs are not safe when temperatures are out of range (57°F-68°F). The Associate Director, Operations and Strategy is responsible for the action plan when temperatures in the freighter cannot be controlled. If the transporter is unreachable, all efforts must be made to keep reaching out to the transporter till the transporter responds to the alert.\u001b[0m\n",
      "\n",
      "\u001b[1m> Finished chain.\u001b[0m\n"
     ]
    },
    {
     "data": {
      "text/plain": [
       "'The DINO Transporter is responsible for recording temperatures from the TYR55 sensor located in the cargo bay of every dinosaur freighter on the Research Dinosaur Welfare Check Log. T-Rexs are not safe when temperatures are out of range (57°F-68°F). The Associate Director, Operations and Strategy is responsible for the action plan when temperatures in the freighter cannot be controlled. If the transporter is unreachable, all efforts must be made to keep reaching out to the transporter till the transporter responds to the alert.'"
      ]
     },
     "execution_count": 113,
     "metadata": {},
     "output_type": "execute_result"
    }
   ],
   "source": [
    "agent_check_safety_actions(agent_executor=agent_executor,\n",
    "                           context_info=temperature_response['output'] + ' ' + current_temp['output'] + ' ' + safety_response['output'])"
   ]
  },
  {
   "cell_type": "code",
   "execution_count": null,
   "id": "9bcf80df-fdcb-4a21-8433-c769c9e6b91c",
   "metadata": {},
   "outputs": [],
   "source": []
  },
  {
   "cell_type": "markdown",
   "id": "3994e7db-ea08-4c2b-9c88-1af4ed8f5cee",
   "metadata": {},
   "source": [
    "## Boto3 SES Message"
   ]
  },
  {
   "cell_type": "code",
   "execution_count": 7,
   "id": "a18db058-e833-435d-9a61-922ee8c54fe6",
   "metadata": {},
   "outputs": [],
   "source": [
    "import aws_features.aws_utils\n",
    "importlib.reload(aws_features.aws_utils)\n",
    "from aws_features.aws_utils import aws_send_sms, send_email"
   ]
  },
  {
   "cell_type": "code",
   "execution_count": 10,
   "id": "7ccf6de4-56a6-48ae-b6dc-1f9ab87cd86d",
   "metadata": {},
   "outputs": [
    {
     "name": "stdout",
     "output_type": "stream",
     "text": [
      "{'MessageId': '0100018f40a5afed-0cb6e07a-761d-4724-b5f9-63547e9da339-000000', 'ResponseMetadata': {'RequestId': 'dc38112b-7237-41c9-bc80-2c6e2c1cd611', 'HTTPStatusCode': 200, 'HTTPHeaders': {'date': 'Fri, 03 May 2024 22:49:11 GMT', 'content-type': 'text/xml', 'content-length': '326', 'connection': 'keep-alive', 'x-amzn-requestid': 'dc38112b-7237-41c9-bc80-2c6e2c1cd611'}, 'RetryAttempts': 0}}\n"
     ]
    }
   ],
   "source": [
    "response = send_email(from_email='yongpeng@usc.edu',\n",
    "                      to_email='billyptang@gmail.com',\n",
    "                      subject='Dinosaur Safety',\n",
    "                      body='Something')\n",
    "print(response)"
   ]
  },
  {
   "cell_type": "code",
   "execution_count": 40,
   "id": "7763331c-5031-46b2-9094-7ac16e9c295f",
   "metadata": {},
   "outputs": [
    {
     "name": "stdout",
     "output_type": "stream",
     "text": [
      "Message sent successfully!\n"
     ]
    }
   ],
   "source": [
    "if response.get('MessageId') and response['ResponseMetadata']['HTTPStatusCode'] == 200:\n",
    "    print(\"Message sent successfully!\")\n",
    "else:\n",
    "    print(\"Failed to send message.\")"
   ]
  },
  {
   "cell_type": "code",
   "execution_count": null,
   "id": "5b201874-a6e6-44c0-af03-23c1097be775",
   "metadata": {},
   "outputs": [],
   "source": []
  },
  {
   "cell_type": "markdown",
   "id": "e8c48324-8dc2-44fb-8274-c7e778f3fd0c",
   "metadata": {},
   "source": [
    "# Part 4"
   ]
  },
  {
   "cell_type": "code",
   "execution_count": 122,
   "id": "0f9dcb3d-7c34-44fc-9ebb-39f3e9fc19c6",
   "metadata": {},
   "outputs": [],
   "source": [
    "import dino_safety_flow_part4\n",
    "importlib.reload(dino_safety_flow_part4)\n",
    "from dino_safety_flow_part4 import dino_temp_safety_check_workflow"
   ]
  },
  {
   "cell_type": "code",
   "execution_count": 123,
   "id": "f21bdec6-f9b0-4d77-994f-890275bcd452",
   "metadata": {
    "scrolled": true
   },
   "outputs": [
    {
     "name": "stdout",
     "output_type": "stream",
     "text": [
      "\n",
      "\n",
      "\u001b[1m> Entering new AgentExecutor chain...\u001b[0m\n",
      "\u001b[32;1m\u001b[1;3mI need to find out the dinosaur being transported on the given date, its safe temperature range, the city it's being transported in, and its name. I will start by querying the DynamoDB table by date to get the Dino ID and City name.\n",
      "Action: query_dynamodb_dino_tbl_by_date\n",
      "Action Input: 3/19/2024\u001b[0m\u001b[38;5;200m\u001b[1;3m[{'DinoID_Transported': 'T88', 'Date': '3/19/2024', '\\ufeffRoute_Number': '123999', 'City': 'Anchorage'}]\u001b[0m\u001b[32;1m\u001b[1;3mI now have the Dino ID (T88) and the city (Anchorage). Next, I need to find out the name of the dinosaur using the Dino ID.\n",
      "Action: query_dino_name_tool\n",
      "Action Input: T88\u001b[0m\n",
      "\n",
      "\u001b[1m> Entering new SQL Agent Executor chain...\u001b[0m\n",
      "\u001b[32;1m\u001b[1;3m\n",
      "Invoking: `sql_db_list_tables` with `{}`\n",
      "\n",
      "\n",
      "\u001b[0m\u001b[38;5;200m\u001b[1;3mdinosaurs\u001b[0m\u001b[32;1m\u001b[1;3m\n",
      "Invoking: `sql_db_schema` with `{'table_names': 'dinosaurs'}`\n",
      "\n",
      "\n",
      "\u001b[0m\u001b[33;1m\u001b[1;3m\n",
      "CREATE TABLE dinosaurs (\n",
      "\t\"ID\" TEXT, \n",
      "\t\"Name\" TEXT, \n",
      "\tPRIMARY KEY (\"ID\")\n",
      ")\n",
      "\n",
      "/*\n",
      "3 rows from dinosaurs table:\n",
      "ID\tName\n",
      "T88\tT-Rex\n",
      "V66\tVelociraptor\n",
      "*/\u001b[0m\u001b[32;1m\u001b[1;3m\n",
      "Invoking: `sql_db_query` with `{'query': \"SELECT Name FROM dinosaurs WHERE ID = 'T88'\"}`\n",
      "\n",
      "\n",
      "\u001b[0m\u001b[36;1m\u001b[1;3m[('T-Rex',)]\u001b[0m\u001b[32;1m\u001b[1;3mThe dinosaur with ID T88 is named T-Rex.\u001b[0m\n",
      "\n",
      "\u001b[1m> Finished chain.\u001b[0m\n",
      "\u001b[33;1m\u001b[1;3mThe dinosaur with ID T88 is named T-Rex.\u001b[0m\u001b[32;1m\u001b[1;3mI now know the name of the dinosaur is T-Rex. Next, I need to find out the safe temperature range for transporting T-Rex.\n",
      "Action: dinosaur_temperature_transport_info\n",
      "Action Input: T-Rex\u001b[0m\u001b[33;1m\u001b[1;3mlocation and the actual time the T-Rexs were moved and the time they were moved back into the freighter. 6.2.10 If the transporter is unreachable, all efforts must be made to keep reaching out to the transporter till the transporter responds to the alert.  7 QUALITY DOCUMENTS 7.1 Research Dinosaur Welfare Check Log       XXXXXX   8 REFERENCES N/A\n",
      "\n",
      "Recording Temperatures using Planet and Responding to Planet Alerts- Rev#10 Downloaded or Printed documents should be deleted/shredded within 1 week. Page 1 of 3  JP-ZOO-INST-24: Recording Temperatures for Transport of T-Rexs   1. PURPOSE This Work Instruction describes the DINO Transporter’s responsibility of keeping the T-Rexs safe if the current temperature is out of the safe temperature range, which is 57°F-68°F for T-Rexs. SCOPE This Work Instruction applies to DINO Operations Staff and teammates in the United States. 2. SAFETY There are no direct safety implications implicated by this procedure. 3. RESPONSIBILITY Transporters Record temperatures from the TYR55 sensor located in the cargo bay of every dinosaur freighter on the Research Dinosaur Welfare Check Log. T-Rexs are not safe when temperatures are out of range (57°F-68°F). Associate Director, Operations and Strategy Responsible for the action plan when temperatures in the freighter cannot be controlled and for Alert\n",
      "\n",
      "Recording Temperatures using Planet and Responding to Planet Alerts- Rev#10 Downloaded or Printed documents should be deleted/shredded within 1 week. Page 1 of 3  JP-ZOO-INST-24: Recording Temperatures for Transport of Velociraptors   1. PURPOSE This Work Instruction describes the DINO Transporter’s responsibility of keeping the Velociraptors safe if the current temperature is out of the safe temperature range, which is 40°F-55°F for Velociraptors. SCOPE This Work Instruction applies to DINO Operations Staff and teammates in the United States. 2. SAFETY There are no direct safety implications implicated by this procedure. 3. RESPONSIBILITY Transporters Record temperatures from the TYR55 sensor located in the cargo bay of every dinosaur freighter on the Research Dinosaur Welfare Check Log. Velociraptors are not safe when temperatures are out of range (40°F-55°F). Associate Director, Operations and Strategy Responsible for the action plan when temperatures in the freighter cannot be\n",
      "\n",
      "new location and the actual time the Velociraptors were moved and the time they were moved back into the freighter. 6.2.10 If the transporter is unreachable, all efforts must be made to keep reaching out to the transporter till the transporter responds to the alert.  7 QUALITY DOCUMENTS 7.1 Research Dinosaur Welfare Check Log       XXXXXX   8 REFERENCES N/A\u001b[0m\u001b[32;1m\u001b[1;3mThe safe temperature range for transporting T-Rex is 57°F-68°F. Now I have all the information needed to answer the question.\n",
      "Final Answer: The dinosaur being transported on 3/19/2024 is a T-Rex. It is being transported in Anchorage. The safe temperature range for transporting T-Rex is 57°F-68°F.\u001b[0m\n",
      "\n",
      "\u001b[1m> Finished chain.\u001b[0m\n",
      "\n",
      "\n",
      "\u001b[1m> Entering new AgentExecutor chain...\u001b[0m\n",
      "\u001b[32;1m\u001b[1;3mI need to find the current temperature in Anchorage.\n",
      "Action: open_weather_map\n",
      "Action Input: Anchorage,US\u001b[0m\u001b[36;1m\u001b[1;3mIn Anchorage,US, the current weather is as follows:\n",
      "Detailed status: light rain\n",
      "Wind speed: 5.66 m/s, direction: 140°\n",
      "Humidity: 54%\n",
      "Temperature: \n",
      "  - Current: 9.67°C\n",
      "  - High: 11.71°C\n",
      "  - Low: 7.03°C\n",
      "  - Feels like: 6.94°C\n",
      "Rain: {}\n",
      "Heat index: None\n",
      "Cloud cover: 100%\u001b[0m\u001b[32;1m\u001b[1;3mThe current temperature in Anchorage is 9.67°C. I need to convert this to Fahrenheit to answer the question.\n",
      "Action: celsius_to_fahrenheit_conversion\n",
      "Action Input: 9.67\u001b[0m\u001b[36;1m\u001b[1;3m49.406\u001b[0m\u001b[32;1m\u001b[1;3mI now know the current temperature in Fahrenheit in Anchorage.\n",
      "Final Answer: The current temperature in Anchorage is 49.406°F.\u001b[0m\n",
      "\n",
      "\u001b[1m> Finished chain.\u001b[0m\n",
      "\n",
      "\n",
      "\u001b[1m> Entering new AgentExecutor chain...\u001b[0m\n",
      "\u001b[32;1m\u001b[1;3mSince we already have all the necessary information (current temperature and safe temperature range), we can directly use the dino_temp_safety_check tool to determine if it's safe to transport the dinosaur.\n",
      "Action: dino_temp_safety_check\n",
      "Action Input: [\"49.406\", \"57\", \"68\"]\u001b[0m\u001b[38;5;200m\u001b[1;3mIt is not safe for the dinosaurs at this temperature because it is too cold.\u001b[0m\u001b[32;1m\u001b[1;3mI now know the final answer\n",
      "Final Answer: It is not safe to transport the dinosaur at this temperature because it is too cold.\u001b[0m\n",
      "\n",
      "\u001b[1m> Finished chain.\u001b[0m\n",
      "\n",
      "\n",
      "\u001b[1m> Entering new AgentExecutor chain...\u001b[0m\n",
      "\u001b[32;1m\u001b[1;3mThe question already provides the dinosaur name and the fact that it is not safe to transport the dinosaur at the current temperature. Therefore, I need to find the specific actions to take to keep the T-Rex safe during transportation in cold temperatures. I can use the dinosaur_temperature_transport_info tool to get this information.\n",
      "Action: dinosaur_temperature_transport_info\n",
      "Action Input: T-Rex\u001b[0m\u001b[33;1m\u001b[1;3mlocation and the actual time the T-Rexs were moved and the time they were moved back into the freighter. 6.2.10 If the transporter is unreachable, all efforts must be made to keep reaching out to the transporter till the transporter responds to the alert.  7 QUALITY DOCUMENTS 7.1 Research Dinosaur Welfare Check Log       XXXXXX   8 REFERENCES N/A\n",
      "\n",
      "Recording Temperatures using Planet and Responding to Planet Alerts- Rev#10 Downloaded or Printed documents should be deleted/shredded within 1 week. Page 1 of 3  JP-ZOO-INST-24: Recording Temperatures for Transport of T-Rexs   1. PURPOSE This Work Instruction describes the DINO Transporter’s responsibility of keeping the T-Rexs safe if the current temperature is out of the safe temperature range, which is 57°F-68°F for T-Rexs. SCOPE This Work Instruction applies to DINO Operations Staff and teammates in the United States. 2. SAFETY There are no direct safety implications implicated by this procedure. 3. RESPONSIBILITY Transporters Record temperatures from the TYR55 sensor located in the cargo bay of every dinosaur freighter on the Research Dinosaur Welfare Check Log. T-Rexs are not safe when temperatures are out of range (57°F-68°F). Associate Director, Operations and Strategy Responsible for the action plan when temperatures in the freighter cannot be controlled and for Alert\n",
      "\n",
      "Recording Temperatures using Planet and Responding to Planet Alerts- Rev#10 Downloaded or Printed documents should be deleted/shredded within 1 week. Page 1 of 3  JP-ZOO-INST-24: Recording Temperatures for Transport of Velociraptors   1. PURPOSE This Work Instruction describes the DINO Transporter’s responsibility of keeping the Velociraptors safe if the current temperature is out of the safe temperature range, which is 40°F-55°F for Velociraptors. SCOPE This Work Instruction applies to DINO Operations Staff and teammates in the United States. 2. SAFETY There are no direct safety implications implicated by this procedure. 3. RESPONSIBILITY Transporters Record temperatures from the TYR55 sensor located in the cargo bay of every dinosaur freighter on the Research Dinosaur Welfare Check Log. Velociraptors are not safe when temperatures are out of range (40°F-55°F). Associate Director, Operations and Strategy Responsible for the action plan when temperatures in the freighter cannot be\n",
      "\n",
      "new location and the actual time the Velociraptors were moved and the time they were moved back into the freighter. 6.2.10 If the transporter is unreachable, all efforts must be made to keep reaching out to the transporter till the transporter responds to the alert.  7 QUALITY DOCUMENTS 7.1 Research Dinosaur Welfare Check Log       XXXXXX   8 REFERENCES N/A\u001b[0m\u001b[32;1m\u001b[1;3mThe document provides detailed instructions on what to do when the temperature is out of the safe range for transporting T-Rexs. The DINO Transporter is responsible for recording temperatures from the TYR55 sensor located in the cargo bay of every dinosaur freighter on the Research Dinosaur Welfare Check Log. The Associate Director, Operations and Strategy is responsible for the action plan when temperatures in the freighter cannot be controlled. If the transporter is unreachable, all efforts must be made to keep reaching out to the transporter until they respond to the alert.\n",
      "Final Answer: The DINO Transporter should record the current temperature from the TYR55 sensor located in the cargo bay of the dinosaur freighter on the Research Dinosaur Welfare Check Log. The Associate Director, Operations and Strategy should be responsible for the action plan when temperatures in the freighter cannot be controlled. If the transporter is unreachable, all efforts must be made to keep reaching out to the transporter until they respond to the alert.\u001b[0m\n",
      "\n",
      "\u001b[1m> Finished chain.\u001b[0m\n",
      "\n",
      "\n",
      "\u001b[1m> Entering new AgentExecutor chain...\u001b[0m\n",
      "\u001b[32;1m\u001b[1;3mThe question is asking for a status email to the manager regarding the current situation of the T-Rex transportation. The information provided includes the dinosaur type, the location, the safe temperature range, the current temperature, and the responsibilities of the DINO Transporter and the Associate Director, Operations and Strategy. No tool is needed as all the information required to craft the email is provided.\n",
      "Final Answer: Subject: Urgent: T-Rex Transportation Status Update\n",
      "\n",
      "Dear Manager,\n",
      "\n",
      "I am writing to update you on the current status of the T-Rex transportation scheduled for 3/19/2024. The dinosaur is being transported in Anchorage, where the current temperature is 49.406°F. \n",
      "\n",
      "Unfortunately, this temperature is below the safe range for T-Rex transportation, which is 57°F-68°F. As a result, it is currently unsafe to transport the dinosaur due to the cold conditions.\n",
      "\n",
      "The DINO Transporter has been instructed to record the current temperature from the TYR55 sensor located in the cargo bay of the dinosaur freighter on the Research Dinosaur Welfare Check Log. \n",
      "\n",
      "The Associate Director, Operations and Strategy is responsible for the action plan when temperatures in the freighter cannot be controlled. In the event that the transporter is unreachable, all efforts will be made to keep reaching out to them until they respond to the alert.\n",
      "\n",
      "We are closely monitoring the situation and will take all necessary steps to ensure the safety and well-being of the T-Rex.\n",
      "\n",
      "Best,\n",
      "[Your Name]\u001b[0m\n",
      "\n",
      "\u001b[1m> Finished chain.\u001b[0m\n"
     ]
    },
    {
     "ename": "NameError",
     "evalue": "name 'sms_responsee' is not defined",
     "output_type": "error",
     "traceback": [
      "\u001b[0;31m---------------------------------------------------------------------------\u001b[0m",
      "\u001b[0;31mNameError\u001b[0m                                 Traceback (most recent call last)",
      "Cell \u001b[0;32mIn[123], line 1\u001b[0m\n\u001b[0;32m----> 1\u001b[0m email \u001b[38;5;241m=\u001b[39m dino_temp_safety_check_workflow(model_name\u001b[38;5;241m=\u001b[39m\u001b[38;5;124m'\u001b[39m\u001b[38;5;124mgpt-4\u001b[39m\u001b[38;5;124m'\u001b[39m,\n\u001b[1;32m      2\u001b[0m                                         temperature\u001b[38;5;241m=\u001b[39m\u001b[38;5;241m0\u001b[39m,\n\u001b[1;32m      3\u001b[0m                                         date\u001b[38;5;241m=\u001b[39m\u001b[38;5;124m'\u001b[39m\u001b[38;5;124m3/19/2024\u001b[39m\u001b[38;5;124m'\u001b[39m,\n\u001b[1;32m      4\u001b[0m                                         phonenumber\u001b[38;5;241m=\u001b[39m\u001b[38;5;124m'\u001b[39m\u001b[38;5;124m+16319353837\u001b[39m\u001b[38;5;124m'\u001b[39m,\n\u001b[1;32m      5\u001b[0m                                         api_keys\u001b[38;5;241m=\u001b[39mapi_keys)\n",
      "File \u001b[0;32m~/projects/dso599-llm-chatbot/llm_chatbot/dino_safety_flow_part4.py:49\u001b[0m, in \u001b[0;36mdino_temp_safety_check_workflow\u001b[0;34m(model_name, temperature, date, phonenumber, api_keys, extra_context)\u001b[0m\n\u001b[1;32m     46\u001b[0m \u001b[38;5;66;03m# send the email through aws\u001b[39;00m\n\u001b[1;32m     47\u001b[0m sms_response \u001b[38;5;241m=\u001b[39m aws_send_sms(phonenumber, email)\n\u001b[0;32m---> 49\u001b[0m \u001b[38;5;28;01mif\u001b[39;00m sms_responsee\u001b[38;5;241m.\u001b[39mget(\u001b[38;5;124m'\u001b[39m\u001b[38;5;124mMessageId\u001b[39m\u001b[38;5;124m'\u001b[39m) \u001b[38;5;129;01mand\u001b[39;00m response[\u001b[38;5;124m'\u001b[39m\u001b[38;5;124mResponseMetadata\u001b[39m\u001b[38;5;124m'\u001b[39m][\u001b[38;5;124m'\u001b[39m\u001b[38;5;124mHTTPStatusCode\u001b[39m\u001b[38;5;124m'\u001b[39m] \u001b[38;5;241m==\u001b[39m \u001b[38;5;241m200\u001b[39m:\n\u001b[1;32m     50\u001b[0m     \u001b[38;5;28mprint\u001b[39m(\u001b[38;5;124m\"\u001b[39m\u001b[38;5;124mMessage sent successfully!\u001b[39m\u001b[38;5;124m\"\u001b[39m)\n\u001b[1;32m     51\u001b[0m \u001b[38;5;28;01melse\u001b[39;00m:\n",
      "\u001b[0;31mNameError\u001b[0m: name 'sms_responsee' is not defined"
     ]
    }
   ],
   "source": [
    "email = dino_temp_safety_check_workflow(model_name='gpt-4',\n",
    "                                        temperature=0,\n",
    "                                        date='3/19/2024',\n",
    "                                        phonenumber='+16319353837',\n",
    "                                        api_keys=api_keys)"
   ]
  },
  {
   "cell_type": "code",
   "execution_count": null,
   "id": "c11b4825-69d0-4750-b6e3-011c39b608ec",
   "metadata": {},
   "outputs": [],
   "source": []
  },
  {
   "cell_type": "markdown",
   "id": "84986c57-7aaf-4a16-bd03-64fac53860c4",
   "metadata": {},
   "source": [
    "# Other"
   ]
  },
  {
   "cell_type": "code",
   "execution_count": 31,
   "id": "27494b06-eb36-4fc5-b109-0ce3e9b6da37",
   "metadata": {},
   "outputs": [],
   "source": [
    "import streamlit_chatbot\n",
    "importlib.reload(streamlit_chatbot)\n",
    "from streamlit_chatbot import initialize_data_sources"
   ]
  },
  {
   "cell_type": "code",
   "execution_count": 32,
   "id": "4d55ed70-1222-40f7-8d3e-7a01690fda40",
   "metadata": {},
   "outputs": [
    {
     "name": "stdout",
     "output_type": "stream",
     "text": [
      "Chroma DB already exists.\n",
      "Table 'dino_info' exists. Table status: ACTIVE\n"
     ]
    }
   ],
   "source": [
    "initialize_data_sources(chromadb_args={'doc_dir': '../pdf_data/', \n",
    "                                           'db_path': '../chroma_vector_store/'}, \n",
    "                            dynamodb_args={'table_name': 'dino_info',\n",
    "                                           'csv_file_path': '../csv_data/dino_records.csv'}) "
   ]
  },
  {
   "cell_type": "code",
   "execution_count": null,
   "id": "8e32395b-92d5-4946-90e3-4179b2c777d2",
   "metadata": {},
   "outputs": [],
   "source": []
  }
 ],
 "metadata": {
  "kernelspec": {
   "display_name": "Python (dso599_llm_chatbot)",
   "language": "python",
   "name": "myenv"
  },
  "language_info": {
   "codemirror_mode": {
    "name": "ipython",
    "version": 3
   },
   "file_extension": ".py",
   "mimetype": "text/x-python",
   "name": "python",
   "nbconvert_exporter": "python",
   "pygments_lexer": "ipython3",
   "version": "3.11.9"
  }
 },
 "nbformat": 4,
 "nbformat_minor": 5
}
